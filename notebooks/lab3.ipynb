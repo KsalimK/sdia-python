{
 "cells": [
  {
   "cell_type": "markdown",
   "source": [
    "# Practical session 3 - Practice with numpy\n",
    "\n",
    "Course: [SDIA-Python](https://github.com/guilgautier/sdia-python)\n",
    "\n",
    "Date: 10/06/2021\n",
    "\n",
    "Instructor: [Guillaume Gautier](https://guilgautier.github.io/)\n",
    "\n",
    "Students (pair):\n",
    "- [KABIRI Salim](https://github.com/KsalimK)\n",
    "- [Ait Lemqeddem Amine](https://github.com/AmineAitLemqeddem)"
   ],
   "metadata": {}
  },
  {
   "cell_type": "code",
   "execution_count": 1,
   "source": [
    "%load_ext autoreload\n",
    "%autoreload 2\n",
    "\n",
    "import numpy as np\n",
    "from sdia_python.lab2.utils import get_random_number_generator"
   ],
   "outputs": [
    {
     "output_type": "stream",
     "name": "stdout",
     "text": [
      "0.6383630634967252\n"
     ]
    }
   ],
   "metadata": {}
  },
  {
   "cell_type": "code",
   "execution_count": 4,
   "source": [
    "my_array = np.array([0])\n",
    "print(type(my_array))\n",
    "dir(np.ndarray)\n"
   ],
   "outputs": [
    {
     "output_type": "stream",
     "name": "stdout",
     "text": [
      "<class 'numpy.ndarray'>\n"
     ]
    },
    {
     "output_type": "execute_result",
     "data": {
      "text/plain": [
       "['T',\n",
       " '__abs__',\n",
       " '__add__',\n",
       " '__and__',\n",
       " '__array__',\n",
       " '__array_finalize__',\n",
       " '__array_function__',\n",
       " '__array_interface__',\n",
       " '__array_prepare__',\n",
       " '__array_priority__',\n",
       " '__array_struct__',\n",
       " '__array_ufunc__',\n",
       " '__array_wrap__',\n",
       " '__bool__',\n",
       " '__class__',\n",
       " '__complex__',\n",
       " '__contains__',\n",
       " '__copy__',\n",
       " '__deepcopy__',\n",
       " '__delattr__',\n",
       " '__delitem__',\n",
       " '__dir__',\n",
       " '__divmod__',\n",
       " '__doc__',\n",
       " '__eq__',\n",
       " '__float__',\n",
       " '__floordiv__',\n",
       " '__format__',\n",
       " '__ge__',\n",
       " '__getattribute__',\n",
       " '__getitem__',\n",
       " '__gt__',\n",
       " '__hash__',\n",
       " '__iadd__',\n",
       " '__iand__',\n",
       " '__ifloordiv__',\n",
       " '__ilshift__',\n",
       " '__imatmul__',\n",
       " '__imod__',\n",
       " '__imul__',\n",
       " '__index__',\n",
       " '__init__',\n",
       " '__init_subclass__',\n",
       " '__int__',\n",
       " '__invert__',\n",
       " '__ior__',\n",
       " '__ipow__',\n",
       " '__irshift__',\n",
       " '__isub__',\n",
       " '__iter__',\n",
       " '__itruediv__',\n",
       " '__ixor__',\n",
       " '__le__',\n",
       " '__len__',\n",
       " '__lshift__',\n",
       " '__lt__',\n",
       " '__matmul__',\n",
       " '__mod__',\n",
       " '__mul__',\n",
       " '__ne__',\n",
       " '__neg__',\n",
       " '__new__',\n",
       " '__or__',\n",
       " '__pos__',\n",
       " '__pow__',\n",
       " '__radd__',\n",
       " '__rand__',\n",
       " '__rdivmod__',\n",
       " '__reduce__',\n",
       " '__reduce_ex__',\n",
       " '__repr__',\n",
       " '__rfloordiv__',\n",
       " '__rlshift__',\n",
       " '__rmatmul__',\n",
       " '__rmod__',\n",
       " '__rmul__',\n",
       " '__ror__',\n",
       " '__rpow__',\n",
       " '__rrshift__',\n",
       " '__rshift__',\n",
       " '__rsub__',\n",
       " '__rtruediv__',\n",
       " '__rxor__',\n",
       " '__setattr__',\n",
       " '__setitem__',\n",
       " '__setstate__',\n",
       " '__sizeof__',\n",
       " '__str__',\n",
       " '__sub__',\n",
       " '__subclasshook__',\n",
       " '__truediv__',\n",
       " '__xor__',\n",
       " 'all',\n",
       " 'any',\n",
       " 'argmax',\n",
       " 'argmin',\n",
       " 'argpartition',\n",
       " 'argsort',\n",
       " 'astype',\n",
       " 'base',\n",
       " 'byteswap',\n",
       " 'choose',\n",
       " 'clip',\n",
       " 'compress',\n",
       " 'conj',\n",
       " 'conjugate',\n",
       " 'copy',\n",
       " 'ctypes',\n",
       " 'cumprod',\n",
       " 'cumsum',\n",
       " 'data',\n",
       " 'diagonal',\n",
       " 'dot',\n",
       " 'dtype',\n",
       " 'dump',\n",
       " 'dumps',\n",
       " 'fill',\n",
       " 'flags',\n",
       " 'flat',\n",
       " 'flatten',\n",
       " 'getfield',\n",
       " 'imag',\n",
       " 'item',\n",
       " 'itemset',\n",
       " 'itemsize',\n",
       " 'max',\n",
       " 'mean',\n",
       " 'min',\n",
       " 'nbytes',\n",
       " 'ndim',\n",
       " 'newbyteorder',\n",
       " 'nonzero',\n",
       " 'partition',\n",
       " 'prod',\n",
       " 'ptp',\n",
       " 'put',\n",
       " 'ravel',\n",
       " 'real',\n",
       " 'repeat',\n",
       " 'reshape',\n",
       " 'resize',\n",
       " 'round',\n",
       " 'searchsorted',\n",
       " 'setfield',\n",
       " 'setflags',\n",
       " 'shape',\n",
       " 'size',\n",
       " 'sort',\n",
       " 'squeeze',\n",
       " 'std',\n",
       " 'strides',\n",
       " 'sum',\n",
       " 'swapaxes',\n",
       " 'take',\n",
       " 'tobytes',\n",
       " 'tofile',\n",
       " 'tolist',\n",
       " 'tostring',\n",
       " 'trace',\n",
       " 'transpose',\n",
       " 'var',\n",
       " 'view']"
      ]
     },
     "metadata": {},
     "execution_count": 4
    }
   ],
   "metadata": {}
  },
  {
   "cell_type": "markdown",
   "source": [
    "Propose at leat 2 ways to create an integer vector of size 100 made of 1s"
   ],
   "metadata": {}
  },
  {
   "cell_type": "code",
   "execution_count": 21,
   "source": [
    "int_vector1=np.ones(100)\n",
    "int_vector2=np.array([1 for i in range(100)])\n"
   ],
   "outputs": [
    {
     "output_type": "execute_result",
     "data": {
      "text/plain": [
       "array([1, 1, 1, 1, 1, 1, 1, 1, 1, 1, 1, 1, 1, 1, 1, 1, 1, 1, 1, 1, 1, 1,\n",
       "       1, 1, 1, 1, 1, 1, 1, 1, 1, 1, 1, 1, 1, 1, 1, 1, 1, 1, 1, 1, 1, 1,\n",
       "       1, 1, 1, 1, 1, 1, 1, 1, 1, 1, 1, 1, 1, 1, 1, 1, 1, 1, 1, 1, 1, 1,\n",
       "       1, 1, 1, 1, 1, 1, 1, 1, 1, 1, 1, 1, 1, 1, 1, 1, 1, 1, 1, 1, 1, 1,\n",
       "       1, 1, 1, 1, 1, 1, 1, 1, 1, 1, 1, 1])"
      ]
     },
     "metadata": {},
     "execution_count": 21
    }
   ],
   "metadata": {}
  },
  {
   "cell_type": "markdown",
   "source": [
    "Create a vector with values ranging from 10 to 49"
   ],
   "metadata": {}
  },
  {
   "cell_type": "code",
   "execution_count": 27,
   "source": [
    "rand_vect=np.random.randint(10,50,2)\n",
    "rand_vect"
   ],
   "outputs": [
    {
     "output_type": "execute_result",
     "data": {
      "text/plain": [
       "array([19, 25])"
      ]
     },
     "metadata": {},
     "execution_count": 27
    }
   ],
   "metadata": {}
  },
  {
   "cell_type": "markdown",
   "source": [
    "Propose a way to construct the vector $(0.0, 0.2, 0.4, 0.6, 0.8)$"
   ],
   "metadata": {}
  },
  {
   "cell_type": "code",
   "execution_count": 36,
   "source": [
    "vect_construction1=np.linspace(0,0.8,5)\n",
    "vect_construction1\n",
    "\n",
    "vect_construction2=np.arange(0,1,0.2) #stop+1 to achieve the stop desired\n",
    "vect_construction2"
   ],
   "outputs": [
    {
     "output_type": "execute_result",
     "data": {
      "text/plain": [
       "array([0. , 0.2, 0.4, 0.6, 0.8])"
      ]
     },
     "metadata": {},
     "execution_count": 36
    }
   ],
   "metadata": {}
  },
  {
   "cell_type": "markdown",
   "source": [
    "Convert a float array into an integer array in place"
   ],
   "metadata": {}
  },
  {
   "cell_type": "code",
   "execution_count": 40,
   "source": [
    "float_array=np.array([1,23,np.pi,np.sqrt(5)])\n",
    "int_array=float_array.astype(int)\n",
    "\n",
    "int_array\n"
   ],
   "outputs": [
    {
     "output_type": "execute_result",
     "data": {
      "text/plain": [
       "array([ 1, 23,  3,  2])"
      ]
     },
     "metadata": {},
     "execution_count": 40
    }
   ],
   "metadata": {}
  },
  {
   "cell_type": "markdown",
   "source": [
    "Given a boolean array\n",
    "\n",
    "- return the indices where \n",
    "- negate the array inplace? "
   ],
   "metadata": {}
  },
  {
   "cell_type": "code",
   "execution_count": 62,
   "source": [
    "bool_array=np.array([False,False,True,False,True]) #rand_vect=np.random.randint(0,2,nb point)  , rand_vect.astype(bool)\n",
    "Indices_True=np.nonzero(bool_array==True)\n",
    "Indices_True\n",
    "Indices_False=np.nonzero(bool_array==False)\n",
    "\n",
    "##########Negate the array##########\n",
    "bool_array_negation=(bool_array==False) ## np.invert\n",
    "bool_array_negation\n"
   ],
   "outputs": [
    {
     "output_type": "execute_result",
     "data": {
      "text/plain": [
       "array([ True,  True, False,  True, False])"
      ]
     },
     "metadata": {},
     "execution_count": 62
    }
   ],
   "metadata": {}
  },
  {
   "cell_type": "markdown",
   "source": [
    "Given 2 vectors $u, v$, propose at least\n",
    "\n",
    "- 2 ways to compute the inner product $v^{\\top} u$ (here they must have the same size)\n",
    "- 2 ways to compute the outer product matrix $u v^{\\top}$\n",
    "- 2 ways to compute the outer sum matrix \"$M = u + v^{\\top}$\", where $M_{ij} = u_i + v_j$"
   ],
   "metadata": {}
  },
  {
   "cell_type": "code",
   "execution_count": 106,
   "source": [
    "u=np.array([1,2,3,4,5])\n",
    "v=np.array([6,7,8,9,0])\n",
    "################inner product##########################\n",
    "inner_product1=np.vdot(u,v)\n",
    "inner_product1\n",
    "\n",
    "\n",
    "inner_product2=np.dot(u,v.T)\n",
    "inner_product2\n",
    "\n",
    "###############outer product####################\n",
    "outer_product1=np.outer(u,v)\n",
    "outer_product1\n",
    "\n",
    "v_reshape=v.reshape((1,5))\n",
    "u_reshape=u.reshape((5,1))\n",
    "outer_product2=np.dot(u_reshape,v_reshape)\n",
    "\n",
    "outer_product2\n",
    "\n",
    "#############the outer sum##########\n",
    "\n",
    "###Method1#####\n",
    "M1=np.zeros((len(u),len(v)))\n",
    "for i in range(len(u)):\n",
    "    for j in range(len(v)):\n",
    "        M1[i][j]=u[i]+v[j]\n",
    "M1\n",
    "\n",
    "####Method2####\n",
    "\n",
    "M2=np.array([u]*len(u)).T+v\n",
    "\n",
    "M2\n",
    "\n",
    "M1==M2"
   ],
   "outputs": [
    {
     "output_type": "execute_result",
     "data": {
      "text/plain": [
       "array([[ True,  True,  True,  True,  True],\n",
       "       [ True,  True,  True,  True,  True],\n",
       "       [ True,  True,  True,  True,  True],\n",
       "       [ True,  True,  True,  True,  True],\n",
       "       [ True,  True,  True,  True,  True]])"
      ]
     },
     "metadata": {},
     "execution_count": 106
    }
   ],
   "metadata": {}
  },
  {
   "cell_type": "markdown",
   "source": [
    "Given the following matrix\n",
    "\n",
    "$$\n",
    "M = \n",
    "\\begin{pmatrix}\n",
    "    0 & 1 & 2 \\\\\n",
    "    3 & 4 & 5 \\\\\n",
    "    6 & 7 & 8 \\\\\n",
    "\\end{pmatrix}\n",
    "$$\n",
    "\n",
    "- Create $M$ using as a list of lists and access the element in the middle\n",
    "- Propose at least 2 ways to create $M$ using numpy and access the element in the middle\n",
    "- Swap its first and second row\n",
    "- Propose at least 3 ways to extract the submatrix $\\begin{pmatrix}4 & 5 \\\\7 & 8 \\\\\\end{pmatrix}$\n",
    "- Propose at least 2 ways to extract the diagonal of $M$\n",
    "- Propose at least 2 ways to compute $M^3$\n",
    "- Compute $v^{\\top} M$, resp. $M N$ for a vector, resp. a matrix of your choice. \n",
    "- Propose 2 ways to \"vectorize\" the matrix, i.e., transform it into\n",
    "  - $(0, 1, 2, 3, 4, 5, 6, 7, 8)$\n",
    "  - $(0, 3, 6, 1, 4, 7, 2, 5, 8)$\n",
    "- Consider $v = (1, 2 , 3)$, compute the\n",
    "  - row-wise multiplication of $M$ by $v$ ($M_{i\\cdot}$ is multiplied by $v_i$)\n",
    "  - column-wise multiplication of $M$ by $v$ ($M_{\\cdot j}$ is multiplied by $v_i$)"
   ],
   "metadata": {}
  },
  {
   "cell_type": "code",
   "execution_count": 273,
   "source": [
    "########  M Méthode list of list #######\n",
    "\n",
    "M=[[0,1,2],[3,4,5],[6,7,7]]\n",
    "M[1][1]\n",
    "\n",
    "########  M Méthode 1 numpy array #######\n",
    "M1=np.array([[0,1,2],[3,4,5],[6,7,8]])\n",
    "M1\n",
    "M1[1][1]\n",
    "\n",
    "########  M Méthode 2 numpy array #######\n",
    "M2=np.arange(0,9,1)\n",
    "M2=M2.reshape((3,3))\n",
    "M2\n",
    "M2[1][1]\n",
    "\n",
    "############################################################################\n",
    "#Par la suite nous allons utiliser M2 comme variable de stockage de la matrice M#\n",
    "############################################################################\n",
    "\n",
    "########### Inverser la première et la deuxième ligne########\n",
    "M2_copy=np.copy(M2)\n",
    "M2_copy[0,:],M2_copy[1,:]=M2[1,:],M2[0,:]\n",
    "M2_copy\n",
    "\n",
    "########## Extraction de la sous-matrice #############\n",
    "\n",
    "##### Méthode 1 ######\n",
    "submatrix1=M2[1:,1:]\n",
    "submatrix1\n",
    "##### Méthode 2 ######\n",
    "submatrix2=M2[1:3,1:3]\n",
    "submatrix2\n",
    "##### Méthode 3 ######\n",
    "submatrix3=M2[1:][:,1:]\n",
    "submatrix3\n",
    "\n",
    "######## diagonale de M #####\n",
    "##### Méthode 1 ######\n",
    "diag1=np.diag(M2)\n",
    "diag1\n",
    "##### Méthode 2 ######\n",
    "diag2=np.array([M2[i][i] for i in range(len(M))])\n",
    "diag2\n",
    "##### Méthode 3 ######\n",
    "diag3=M2[1:][:,1:]\n",
    "diag3\n",
    "\n",
    "######################## M^3 ##########################\n",
    "\n",
    "##### Méthode 1 ######\n",
    "M3_1=np.dot(np.dot(M2,M2),M2)\n",
    "\n",
    "##### Méthode 2 ######\n",
    "D,V =np.linalg.eig(M2)\n",
    "matrixD=np.zeros((3,3))\n",
    "matrixD[0][0]=D[0]\n",
    "matrixD[1][1]=D[1]\n",
    "matrixD[2][2]=D[2]\n",
    "M3_2=np.dot(np.dot(np.linalg.inv(V),matrixD**3),V)\n",
    "#########\n",
    " #Mathématiquement, cette méthode devrait donner le bon résultat mais j'obtiens un résultat différent (à voir avec le prof)\n",
    "########   \n",
    "\n",
    "################## v.T M and MN############\n",
    "v=np.array([1,2,3])\n",
    "N=np.array([[1,2,3],[4,5,6],[7,8,9]])\n",
    "\n",
    "\n",
    "vTM=np.dot(v.T,N)\n",
    "vTM\n",
    "\n",
    "MN=np.dot(M,N)\n",
    "MN\n",
    "\n",
    "\n",
    "##################### vectorize the matrix m #################\n",
    "M3_copy=np.copy(M2)\n",
    "vect1=M3_copy.reshape(9)\n",
    "vect1\n",
    "\n",
    "\n",
    "vect2=M3_copy.T.reshape(9)\n",
    "vect2\n",
    "\n",
    "##################### row-wise and column-wise multiplication########\n",
    "v=np.array([1,2,3])\n",
    "\n",
    "Mv_row_wise=M2*v.reshape((3,1))\n",
    "Mv_row_wise\n",
    "\n",
    "Mv_column_wise=M2*v\n",
    "Mv_column_wise\n",
    "\n",
    "\n"
   ],
   "outputs": [
    {
     "output_type": "execute_result",
     "data": {
      "text/plain": [
       "array([[ 0,  2,  6],\n",
       "       [ 3,  8, 15],\n",
       "       [ 6, 14, 24]])"
      ]
     },
     "metadata": {},
     "execution_count": 273
    }
   ],
   "metadata": {}
  },
  {
   "cell_type": "markdown",
   "source": [
    "Write a function `is_symmetric` that checks whether a given n x n matrix is symmetric, and provide an example"
   ],
   "metadata": {}
  },
  {
   "cell_type": "code",
   "execution_count": 295,
   "source": [
    "def is_symmetric(x):\n",
    "    \"\"\"function that checks whether a given n x n matrix is symmetric\n",
    "\n",
    "    Args:\n",
    "        x (array): the matrix to test\n",
    "\n",
    "    Returns:\n",
    "        bool: True if x is symmetric , False if not\n",
    "    \"\"\"\n",
    "    \n",
    "        \n",
    "    return np.array_equal(x,x.T)\n",
    "\n",
    "x1=np.array([[1,2,3],[4,5,6],[6,7,8]])\n",
    "is_symmetric(x1) #False\n",
    "\n",
    "x2=np.array([[1,2,3],[2,2,3],[3,3,3]])\n",
    "is_symmetric(x2) #True\n"
   ],
   "outputs": [
    {
     "output_type": "execute_result",
     "data": {
      "text/plain": [
       "True"
      ]
     },
     "metadata": {},
     "execution_count": 295
    }
   ],
   "metadata": {}
  },
  {
   "cell_type": "markdown",
   "source": [
    "## Random\n",
    "\n",
    "REQUIREMENT: USE THE FUNCTION `get_random_number_generator` as previously used in Lab 2."
   ],
   "metadata": {}
  },
  {
   "cell_type": "markdown",
   "source": [
    "Consider the Bernoulli(0.4) distribution\n",
    "\n",
    "- Propose at least 2 ways to generate n=1000 samples from it\n",
    "- Compute the empirical mean and variance"
   ],
   "metadata": {}
  },
  {
   "cell_type": "code",
   "execution_count": 315,
   "source": [
    "rng=get_random_number_generator(0)\n",
    "\n",
    "simulation1= rng.binomial(1,0.4,1000)\n",
    "mean1=np.mean(simulation1)\n",
    "var1=np.var(simulation1)\n",
    "simulation1 , mean1 , var1\n",
    "\n",
    "\n",
    "simulation2= np.array([rng.binomial(1,0.4) for i in range(1000)])\n",
    "mean2=np.mean(simulation2)\n",
    "var2=np.var(simulation2)\n",
    "simulation2 , mean2 , var2\n"
   ],
   "outputs": [
    {
     "output_type": "execute_result",
     "data": {
      "text/plain": [
       "(array([0, 1, 0, 0, 1, 1, 0, 0, 0, 0, 0, 0, 0, 0, 0, 1, 0, 0, 1, 1, 1, 0,\n",
       "        0, 1, 0, 0, 0, 0, 0, 0, 0, 1, 1, 0, 0, 0, 0, 0, 1, 0, 0, 0, 0, 0,\n",
       "        1, 0, 1, 0, 0, 0, 0, 0, 0, 1, 0, 1, 0, 1, 0, 1, 0, 0, 1, 0, 1, 1,\n",
       "        1, 0, 1, 0, 0, 1, 1, 0, 1, 0, 1, 0, 0, 1, 1, 0, 0, 1, 0, 0, 0, 1,\n",
       "        0, 1, 0, 1, 0, 1, 0, 0, 0, 1, 0, 0, 0, 0, 0, 0, 1, 0, 0, 1, 0, 0,\n",
       "        1, 0, 1, 1, 0, 0, 0, 0, 0, 1, 0, 0, 0, 1, 1, 1, 1, 0, 0, 1, 0, 1,\n",
       "        1, 1, 1, 0, 1, 0, 1, 1, 0, 0, 1, 1, 1, 1, 0, 0, 0, 1, 0, 0, 0, 0,\n",
       "        1, 0, 0, 0, 1, 0, 1, 1, 0, 0, 1, 1, 0, 1, 0, 1, 0, 1, 1, 1, 1, 0,\n",
       "        1, 0, 0, 1, 1, 0, 0, 0, 1, 0, 1, 0, 1, 1, 0, 0, 0, 1, 1, 0, 1, 0,\n",
       "        0, 0, 0, 0, 1, 0, 0, 1, 1, 0, 0, 0, 0, 1, 1, 1, 0, 0, 0, 0, 1, 0,\n",
       "        0, 0, 1, 0, 1, 1, 0, 1, 0, 1, 0, 0, 0, 0, 1, 1, 0, 0, 0, 0, 0, 0,\n",
       "        1, 0, 0, 0, 0, 1, 0, 0, 0, 0, 1, 0, 0, 0, 1, 0, 1, 1, 1, 0, 0, 1,\n",
       "        1, 1, 0, 1, 0, 0, 1, 0, 1, 0, 1, 0, 0, 0, 1, 0, 1, 1, 0, 1, 0, 0,\n",
       "        0, 1, 1, 0, 0, 0, 0, 1, 0, 0, 0, 1, 1, 1, 1, 0, 0, 1, 0, 0, 0, 0,\n",
       "        0, 0, 0, 1, 0, 1, 0, 0, 0, 0, 0, 0, 0, 0, 0, 0, 0, 0, 0, 0, 0, 1,\n",
       "        0, 0, 1, 0, 0, 1, 1, 0, 0, 0, 0, 0, 0, 1, 0, 0, 1, 0, 0, 0, 0, 0,\n",
       "        0, 0, 0, 0, 0, 1, 1, 0, 0, 1, 0, 0, 1, 1, 1, 0, 0, 1, 1, 1, 0, 1,\n",
       "        0, 1, 1, 0, 1, 0, 0, 0, 1, 1, 1, 1, 0, 0, 0, 1, 1, 0, 1, 0, 1, 1,\n",
       "        0, 1, 1, 1, 1, 0, 0, 0, 1, 0, 1, 1, 0, 1, 0, 1, 1, 1, 0, 1, 1, 1,\n",
       "        1, 0, 0, 0, 1, 1, 0, 1, 1, 0, 1, 0, 0, 0, 1, 0, 0, 1, 1, 0, 1, 0,\n",
       "        1, 0, 0, 1, 0, 0, 0, 0, 0, 0, 1, 0, 0, 0, 1, 0, 1, 0, 0, 0, 0, 1,\n",
       "        1, 0, 0, 1, 1, 1, 0, 0, 0, 1, 0, 0, 1, 1, 1, 0, 1, 1, 0, 0, 0, 0,\n",
       "        0, 1, 0, 0, 0, 1, 1, 0, 0, 1, 0, 1, 1, 1, 1, 0, 0, 1, 0, 0, 0, 0,\n",
       "        1, 0, 0, 0, 1, 1, 0, 1, 1, 1, 1, 0, 0, 1, 0, 0, 0, 0, 1, 1, 0, 0,\n",
       "        1, 0, 1, 0, 0, 0, 0, 1, 0, 1, 0, 1, 0, 0, 1, 0, 1, 0, 0, 1, 0, 0,\n",
       "        0, 1, 0, 0, 1, 0, 1, 0, 0, 1, 1, 0, 0, 0, 0, 1, 0, 1, 1, 0, 1, 1,\n",
       "        1, 0, 0, 0, 0, 0, 0, 0, 0, 1, 0, 0, 1, 0, 1, 0, 0, 0, 1, 1, 0, 1,\n",
       "        1, 0, 0, 1, 1, 0, 0, 1, 0, 0, 1, 0, 1, 0, 1, 1, 1, 1, 0, 1, 0, 0,\n",
       "        0, 0, 1, 0, 0, 0, 0, 0, 1, 0, 0, 0, 0, 0, 0, 0, 1, 1, 0, 0, 0, 0,\n",
       "        0, 0, 1, 0, 0, 1, 0, 0, 1, 1, 0, 1, 0, 0, 0, 0, 0, 1, 0, 1, 1, 1,\n",
       "        1, 0, 0, 1, 0, 0, 1, 0, 1, 1, 1, 1, 0, 0, 1, 0, 0, 0, 0, 0, 0, 0,\n",
       "        0, 0, 1, 0, 0, 1, 1, 0, 1, 0, 0, 1, 0, 0, 1, 0, 1, 0, 0, 0, 0, 1,\n",
       "        1, 0, 0, 0, 0, 1, 0, 1, 1, 0, 0, 1, 0, 0, 1, 1, 1, 1, 1, 0, 0, 1,\n",
       "        0, 1, 0, 0, 1, 0, 0, 1, 0, 1, 0, 0, 0, 0, 0, 1, 0, 0, 1, 1, 0, 0,\n",
       "        0, 1, 0, 1, 0, 1, 1, 0, 0, 1, 0, 0, 0, 0, 1, 1, 0, 1, 0, 1, 0, 1,\n",
       "        0, 0, 0, 0, 1, 1, 0, 1, 1, 1, 1, 0, 0, 0, 0, 0, 0, 0, 0, 1, 0, 1,\n",
       "        0, 1, 0, 0, 1, 0, 0, 0, 0, 0, 0, 0, 0, 0, 0, 0, 0, 1, 0, 0, 1, 0,\n",
       "        1, 0, 0, 0, 0, 1, 0, 0, 1, 0, 0, 0, 0, 0, 1, 1, 0, 0, 0, 0, 0, 0,\n",
       "        1, 0, 0, 0, 1, 1, 0, 1, 0, 1, 0, 0, 1, 0, 0, 0, 0, 0, 1, 0, 1, 1,\n",
       "        1, 0, 0, 0, 0, 0, 0, 0, 0, 1, 1, 1, 0, 0, 1, 0, 0, 0, 0, 0, 1, 0,\n",
       "        0, 1, 0, 1, 0, 0, 0, 0, 1, 0, 0, 0, 0, 0, 0, 0, 0, 0, 0, 0, 0, 0,\n",
       "        0, 0, 1, 0, 1, 1, 1, 1, 0, 1, 1, 0, 0, 0, 0, 1, 0, 1, 0, 1, 0, 0,\n",
       "        0, 0, 0, 0, 1, 1, 0, 1, 1, 1, 0, 0, 1, 1, 1, 0, 0, 0, 1, 1, 0, 0,\n",
       "        0, 1, 1, 0, 0, 1, 0, 1, 0, 0, 0, 1, 0, 0, 1, 1, 0, 0, 0, 1, 0, 0,\n",
       "        0, 0, 1, 1, 0, 0, 1, 0, 1, 0, 0, 0, 0, 0, 0, 0, 0, 0, 0, 0, 0, 1,\n",
       "        1, 0, 1, 0, 0, 0, 1, 0, 0, 0]),\n",
       " 0.372,\n",
       " 0.233616)"
      ]
     },
     "metadata": {},
     "execution_count": 315
    }
   ],
   "metadata": {}
  },
  {
   "cell_type": "markdown",
   "source": [
    "Consider a random matrix of size $50 \\times 100$, filled with i.i.d. standard Gaussian variables, compute\n",
    "\n",
    "- the absolute value of each entry\n",
    "- the sum of each row\n",
    "- the sum of each colomn \n",
    "- the (euclidean) norm of each row\n",
    "- the (euclidean) norm of each column"
   ],
   "metadata": {}
  },
  {
   "cell_type": "code",
   "execution_count": 336,
   "source": [
    "Gaussian_matrix=rng.normal(0,1,(50,100))\n",
    "Gaussian_matrix\n",
    "\n",
    "Gaussian_matrix_abs=np.abs(Gaussian_matrix)\n",
    "\n",
    "Sum_row = Gaussian_matrix.sum(axis=1)\n",
    "Sum_row\n",
    "\n",
    "Sum_column = Gaussian_matrix.sum(axis=0)\n",
    "Sum_column\n",
    "\n",
    "norm_row = np.linalg.norm(Gaussian_matrix,axis=1)\n",
    "norm_row\n",
    "\n",
    "norm_row = np.linalg.norm(Gaussian_matrix,axis=0)\n",
    "norm_row"
   ],
   "outputs": [
    {
     "output_type": "execute_result",
     "data": {
      "text/plain": [
       "array([6.90713452, 7.59743836, 6.39794324, 6.30824988, 6.72247908,\n",
       "       7.83086859, 7.17884951, 6.31719148, 7.31782602, 6.50877941,\n",
       "       7.64778918, 6.75465775, 7.70383317, 7.95805585, 7.80358484,\n",
       "       6.38619948, 6.91134172, 7.01787848, 7.6421603 , 7.121144  ,\n",
       "       7.37147808, 7.23229065, 5.79204245, 6.55315666, 8.29672682,\n",
       "       6.39835342, 6.92682858, 6.10666278, 5.48991026, 8.05534669,\n",
       "       6.98039514, 6.15363546, 7.00213912, 7.49464636, 7.04862755,\n",
       "       8.25882555, 5.78575974, 7.17239548, 6.51651865, 7.4518577 ,\n",
       "       6.63259437, 7.70547305, 6.19774303, 6.68049204, 5.87382348,\n",
       "       7.48493831, 7.42902109, 7.32959815, 6.85346254, 7.14799798,\n",
       "       6.05141195, 8.16177717, 7.71700655, 7.30239983, 6.90319175,\n",
       "       6.50284532, 7.87056734, 6.79009034, 6.41525845, 7.21111722,\n",
       "       6.46138786, 8.28157768, 7.57503503, 6.08340822, 7.1520737 ,\n",
       "       7.12325514, 7.94959215, 6.59253751, 7.22887438, 8.21942592,\n",
       "       6.55157429, 6.95251663, 6.72752296, 6.23067742, 6.12147044,\n",
       "       7.18554013, 7.10222218, 7.68997843, 7.45626154, 6.88336728,\n",
       "       7.57349497, 6.93259064, 6.07449975, 6.23784168, 7.99355781,\n",
       "       6.87912697, 6.68828619, 8.27394095, 8.04191238, 6.10606156,\n",
       "       6.76167712, 8.22286873, 6.78040925, 5.99106361, 6.99914399,\n",
       "       6.38344952, 7.98444161, 6.29766235, 7.6709383 , 6.89175054])"
      ]
     },
     "metadata": {},
     "execution_count": 336
    }
   ],
   "metadata": {}
  }
 ],
 "metadata": {
  "kernelspec": {
   "name": "python3",
   "display_name": "Python 3.8.11 64-bit ('sdia-python': conda)"
  },
  "language_info": {
   "codemirror_mode": {
    "name": "ipython",
    "version": 3
   },
   "file_extension": ".py",
   "mimetype": "text/x-python",
   "name": "python",
   "nbconvert_exporter": "python",
   "pygments_lexer": "ipython3",
   "version": "3.8.11"
  },
  "toc": {
   "base_numbering": 1,
   "nav_menu": {},
   "number_sections": false,
   "sideBar": true,
   "skip_h1_title": true,
   "title_cell": "Lecture Outline",
   "title_sidebar": "Contents",
   "toc_cell": true,
   "toc_position": {},
   "toc_section_display": true,
   "toc_window_display": true
  },
  "interpreter": {
   "hash": "f6393793d105c9501c054149556491342f57107460b9941c6625f98ef8f69ab0"
  }
 },
 "nbformat": 4,
 "nbformat_minor": 4
}
